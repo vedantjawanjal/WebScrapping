{
 "cells": [
  {
   "cell_type": "code",
   "execution_count": 1,
   "id": "1bbafc02",
   "metadata": {},
   "outputs": [
    {
     "ename": "ModuleNotFoundError",
     "evalue": "No module named 'selenium'",
     "output_type": "error",
     "traceback": [
      "\u001b[1;31m---------------------------------------------------------------------------\u001b[0m",
      "\u001b[1;31mModuleNotFoundError\u001b[0m                       Traceback (most recent call last)",
      "Input \u001b[1;32mIn [1]\u001b[0m, in \u001b[0;36m<cell line: 1>\u001b[1;34m()\u001b[0m\n\u001b[1;32m----> 1\u001b[0m \u001b[38;5;28;01mfrom\u001b[39;00m \u001b[38;5;21;01mselenium\u001b[39;00m \u001b[38;5;28;01mimport\u001b[39;00m webdriver\n\u001b[0;32m      2\u001b[0m \u001b[38;5;28;01mfrom\u001b[39;00m \u001b[38;5;21;01mselenium\u001b[39;00m\u001b[38;5;21;01m.\u001b[39;00m\u001b[38;5;21;01mwebdriver\u001b[39;00m\u001b[38;5;21;01m.\u001b[39;00m\u001b[38;5;21;01mchrome\u001b[39;00m\u001b[38;5;21;01m.\u001b[39;00m\u001b[38;5;21;01mservice\u001b[39;00m \u001b[38;5;28;01mimport\u001b[39;00m Service \n\u001b[0;32m      3\u001b[0m \u001b[38;5;28;01mfrom\u001b[39;00m \u001b[38;5;21;01mselenium\u001b[39;00m\u001b[38;5;21;01m.\u001b[39;00m\u001b[38;5;21;01mwebdriver\u001b[39;00m\u001b[38;5;21;01m.\u001b[39;00m\u001b[38;5;21;01mcommon\u001b[39;00m\u001b[38;5;21;01m.\u001b[39;00m\u001b[38;5;21;01mby\u001b[39;00m \u001b[38;5;28;01mimport\u001b[39;00m By\n",
      "\u001b[1;31mModuleNotFoundError\u001b[0m: No module named 'selenium'"
     ]
    }
   ],
   "source": [
    "from selenium import webdriver\n",
    "from selenium.webdriver.chrome.service import Service \n",
    "from selenium.webdriver.common.by import By\n",
    "from selenium.webdriver.support.ui import Select\n",
    "import pandas as pd\n",
    "import time"
   ]
  },
  {
   "cell_type": "code",
   "execution_count": 3,
   "id": "bf4eff65",
   "metadata": {},
   "outputs": [],
   "source": [
    "def getWebsiteDriver():\n",
    "    path = 'C:/Users/ACER/Downloads/chromedriver_win32/chromedriver.exe'\n",
    "    service = Service()\n",
    "    options = webdriver.ChromeOptions()\n",
    "    options.add_experimental_option(\"detach\", True)\n",
    "    driver = webdriver.Chrome(service=service, options=options)\n",
    "    return driver"
   ]
  },
  {
   "cell_type": "code",
   "execution_count": 4,
   "id": "068144b0",
   "metadata": {},
   "outputs": [
    {
     "name": "stdout",
     "output_type": "stream",
     "text": [
      "Driver Connection Failed name 'Service' is not defined\n"
     ]
    }
   ],
   "source": [
    "if __name__==\"__main__\":\n",
    "    website = 'https://www.flipkart.com/search?q=laptop&otracker=search&otracker1=search&marketplace=FLIPKART&as-show=on&as=off&page=1'\n",
    "    try: \n",
    "        list_of_laptops = []\n",
    "        laptops_data = []\n",
    "        driver = getWebsiteDriver()\n",
    "        for page in range(1, 10):\n",
    "            website = f'https://www.flipkart.com/search?q=laptop&otracker=search&otracker1=search&marketplace=FLIPKART&as-show=on&as=off&page={page}'\n",
    "            driver.get(website)\n",
    "            Laptops = driver.find_elements(By.XPATH, '//div[@class=\"_2kHMtA\"]//a')\n",
    "            for laptop in Laptops:\n",
    "                list_of_laptops.append(laptop.get_attribute('href'))\n",
    "            time.sleep(5)\n",
    "\n",
    "        for link in list_of_laptops:\n",
    "            driver.get(link)\n",
    "            time.sleep(3)\n",
    "            try:\n",
    "                read_more = driver.find_element(By.XPATH, '//div//button[@class=\"_2KpZ6l _1FH0tX\"]')\n",
    "                read_more.click()\n",
    "            except:\n",
    "                pass\n",
    "            laptop_name = driver.find_element(By.XPATH, '//h1//span').text\n",
    "            current_price = driver.find_element(By.XPATH, '//div[@class=\"_25b18c\"]//div[@class=\"_30jeq3 _16Jk6d\"]').text\n",
    "            try:\n",
    "                MRP_price = driver.find_element(By.XPATH, '//div[@class=\"_25b18c\"]//div[@class=\"_3I9_wc _2p6lqe\"]').text\n",
    "            except:\n",
    "                MRP_price = \"N/A\"\n",
    "            try:\n",
    "                rating = driver.find_element(By.XPATH, '//div[@class=\"gUuXy- _16VRIQ\"]//span//div[@class=\"_3LWZlK\"]').text\n",
    "            except:\n",
    "                rating = \"NA\"\n",
    "\n",
    "            data = {\n",
    "                'Laptop Name': laptop_name,\n",
    "                'Current Price': current_price,\n",
    "                'MRP Price': MRP_price,\n",
    "                'Rating': rating\n",
    "            }\n",
    "\n",
    "            specifications = driver.find_elements(By.XPATH, '//div[@class=\"_3k-BhJ\"][2]//tr')\n",
    "            for spec in specifications:\n",
    "                key = spec.find_element(By.XPATH, './/td[1]').text\n",
    "                value = spec.find_element(By.XPATH, './/td[2]').text\n",
    "                data[key] = value\n",
    "\n",
    "            laptops_data.append(data)\n",
    "\n",
    "        df = pd.DataFrame(laptops_data)  # Convert list of dictionaries to DataFrame\n",
    "        \n",
    "        # Save DataFrame to CSV file\n",
    "        df.to_csv('laptops_data.csv', index=False)\n",
    "        \n",
    "        print(\"Data saved to laptops_data.csv\")\n",
    "\n",
    "        driver.quit()\n",
    "    except Exception as e:\n",
    "        print(\"Driver Connection Failed \" + str(e))\n",
    "    \n"
   ]
  },
  {
   "cell_type": "code",
   "execution_count": null,
   "id": "4c0a1d39",
   "metadata": {},
   "outputs": [],
   "source": []
  }
 ],
 "metadata": {
  "kernelspec": {
   "display_name": "Python 3 (ipykernel)",
   "language": "python",
   "name": "python3"
  },
  "language_info": {
   "codemirror_mode": {
    "name": "ipython",
    "version": 3
   },
   "file_extension": ".py",
   "mimetype": "text/x-python",
   "name": "python",
   "nbconvert_exporter": "python",
   "pygments_lexer": "ipython3",
   "version": "3.9.12"
  }
 },
 "nbformat": 4,
 "nbformat_minor": 5
}
